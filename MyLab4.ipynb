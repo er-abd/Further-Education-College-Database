{
  "cells": [
    {
      "cell_type": "markdown",
      "metadata": {
        "id": "view-in-github",
        "colab_type": "text"
      },
      "source": [
        "<a href=\"https://colab.research.google.com/github/er-abd/Further-Education-College-Database/blob/main/MyLab4.ipynb\" target=\"_parent\"><img src=\"https://colab.research.google.com/assets/colab-badge.svg\" alt=\"Open In Colab\"/></a>"
      ]
    },
    {
      "cell_type": "markdown",
      "metadata": {
        "id": "QwgwOoNNK-GO"
      },
      "source": [
        "# Lab 4 - Hypothesis testing and statistical analysis"
      ]
    },
    {
      "cell_type": "markdown",
      "metadata": {
        "id": "oL5JJpHnK-GQ"
      },
      "source": [
        "Please read this to the end before starting. There is important information towards the end."
      ]
    },
    {
      "cell_type": "markdown",
      "metadata": {
        "id": "s7lglMV6K-GR"
      },
      "source": [
        "## Get the data (1 mark)"
      ]
    },
    {
      "cell_type": "markdown",
      "metadata": {
        "id": "BB1HwuSzK-GR"
      },
      "source": [
        "Reading data from the census11sample.csv file into a dataframe.\n"
      ]
    },
    {
      "cell_type": "code",
      "source": [
        "import pandas as pd\n",
        "import numpy as np\n",
        "population_data = pd.read_csv(\"census11sample.csv\", index_col =[0])\n",
        "population_data"
      ],
      "metadata": {
        "colab": {
          "base_uri": "https://localhost:8080/",
          "height": 423
        },
        "id": "B7lbMOxYMqJC",
        "outputId": "5d7ee677-29c0-4e95-db4f-21fafa11debb"
      },
      "execution_count": 47,
      "outputs": [
        {
          "output_type": "execute_result",
          "data": {
            "text/plain": [
              "     North East  North West  Yorkshire and The Humber  East Midlands  \\\n",
              "0            27          32                        65             60   \n",
              "1            10          36                        40             19   \n",
              "2            82          53                        60             34   \n",
              "3            33          63                        25             60   \n",
              "4            55          98                         4             47   \n",
              "..          ...         ...                       ...            ...   \n",
              "995          42          59                        47             37   \n",
              "996          49          45                        16             80   \n",
              "997          31           5                        25             39   \n",
              "998          38          69                        52              4   \n",
              "999          73          29                        59             25   \n",
              "\n",
              "     West Midlands  East of England  London  South East  South West  \n",
              "0               44               79      43           8           9  \n",
              "1               52               46      58          87          40  \n",
              "2                2               29      18          46          57  \n",
              "3                9               26      30          52          74  \n",
              "4               58               37      18          67          19  \n",
              "..             ...              ...     ...         ...         ...  \n",
              "995             61               67      29          16          21  \n",
              "996             87               86       4          79          74  \n",
              "997             52               22      17           8          34  \n",
              "998              3               76      24          51          94  \n",
              "999             58               43      24          32           0  \n",
              "\n",
              "[1000 rows x 9 columns]"
            ],
            "text/html": [
              "\n",
              "  <div id=\"df-4eefda32-c1a2-4f46-b265-3472a746e477\">\n",
              "    <div class=\"colab-df-container\">\n",
              "      <div>\n",
              "<style scoped>\n",
              "    .dataframe tbody tr th:only-of-type {\n",
              "        vertical-align: middle;\n",
              "    }\n",
              "\n",
              "    .dataframe tbody tr th {\n",
              "        vertical-align: top;\n",
              "    }\n",
              "\n",
              "    .dataframe thead th {\n",
              "        text-align: right;\n",
              "    }\n",
              "</style>\n",
              "<table border=\"1\" class=\"dataframe\">\n",
              "  <thead>\n",
              "    <tr style=\"text-align: right;\">\n",
              "      <th></th>\n",
              "      <th>North East</th>\n",
              "      <th>North West</th>\n",
              "      <th>Yorkshire and The Humber</th>\n",
              "      <th>East Midlands</th>\n",
              "      <th>West Midlands</th>\n",
              "      <th>East of England</th>\n",
              "      <th>London</th>\n",
              "      <th>South East</th>\n",
              "      <th>South West</th>\n",
              "    </tr>\n",
              "  </thead>\n",
              "  <tbody>\n",
              "    <tr>\n",
              "      <th>0</th>\n",
              "      <td>27</td>\n",
              "      <td>32</td>\n",
              "      <td>65</td>\n",
              "      <td>60</td>\n",
              "      <td>44</td>\n",
              "      <td>79</td>\n",
              "      <td>43</td>\n",
              "      <td>8</td>\n",
              "      <td>9</td>\n",
              "    </tr>\n",
              "    <tr>\n",
              "      <th>1</th>\n",
              "      <td>10</td>\n",
              "      <td>36</td>\n",
              "      <td>40</td>\n",
              "      <td>19</td>\n",
              "      <td>52</td>\n",
              "      <td>46</td>\n",
              "      <td>58</td>\n",
              "      <td>87</td>\n",
              "      <td>40</td>\n",
              "    </tr>\n",
              "    <tr>\n",
              "      <th>2</th>\n",
              "      <td>82</td>\n",
              "      <td>53</td>\n",
              "      <td>60</td>\n",
              "      <td>34</td>\n",
              "      <td>2</td>\n",
              "      <td>29</td>\n",
              "      <td>18</td>\n",
              "      <td>46</td>\n",
              "      <td>57</td>\n",
              "    </tr>\n",
              "    <tr>\n",
              "      <th>3</th>\n",
              "      <td>33</td>\n",
              "      <td>63</td>\n",
              "      <td>25</td>\n",
              "      <td>60</td>\n",
              "      <td>9</td>\n",
              "      <td>26</td>\n",
              "      <td>30</td>\n",
              "      <td>52</td>\n",
              "      <td>74</td>\n",
              "    </tr>\n",
              "    <tr>\n",
              "      <th>4</th>\n",
              "      <td>55</td>\n",
              "      <td>98</td>\n",
              "      <td>4</td>\n",
              "      <td>47</td>\n",
              "      <td>58</td>\n",
              "      <td>37</td>\n",
              "      <td>18</td>\n",
              "      <td>67</td>\n",
              "      <td>19</td>\n",
              "    </tr>\n",
              "    <tr>\n",
              "      <th>...</th>\n",
              "      <td>...</td>\n",
              "      <td>...</td>\n",
              "      <td>...</td>\n",
              "      <td>...</td>\n",
              "      <td>...</td>\n",
              "      <td>...</td>\n",
              "      <td>...</td>\n",
              "      <td>...</td>\n",
              "      <td>...</td>\n",
              "    </tr>\n",
              "    <tr>\n",
              "      <th>995</th>\n",
              "      <td>42</td>\n",
              "      <td>59</td>\n",
              "      <td>47</td>\n",
              "      <td>37</td>\n",
              "      <td>61</td>\n",
              "      <td>67</td>\n",
              "      <td>29</td>\n",
              "      <td>16</td>\n",
              "      <td>21</td>\n",
              "    </tr>\n",
              "    <tr>\n",
              "      <th>996</th>\n",
              "      <td>49</td>\n",
              "      <td>45</td>\n",
              "      <td>16</td>\n",
              "      <td>80</td>\n",
              "      <td>87</td>\n",
              "      <td>86</td>\n",
              "      <td>4</td>\n",
              "      <td>79</td>\n",
              "      <td>74</td>\n",
              "    </tr>\n",
              "    <tr>\n",
              "      <th>997</th>\n",
              "      <td>31</td>\n",
              "      <td>5</td>\n",
              "      <td>25</td>\n",
              "      <td>39</td>\n",
              "      <td>52</td>\n",
              "      <td>22</td>\n",
              "      <td>17</td>\n",
              "      <td>8</td>\n",
              "      <td>34</td>\n",
              "    </tr>\n",
              "    <tr>\n",
              "      <th>998</th>\n",
              "      <td>38</td>\n",
              "      <td>69</td>\n",
              "      <td>52</td>\n",
              "      <td>4</td>\n",
              "      <td>3</td>\n",
              "      <td>76</td>\n",
              "      <td>24</td>\n",
              "      <td>51</td>\n",
              "      <td>94</td>\n",
              "    </tr>\n",
              "    <tr>\n",
              "      <th>999</th>\n",
              "      <td>73</td>\n",
              "      <td>29</td>\n",
              "      <td>59</td>\n",
              "      <td>25</td>\n",
              "      <td>58</td>\n",
              "      <td>43</td>\n",
              "      <td>24</td>\n",
              "      <td>32</td>\n",
              "      <td>0</td>\n",
              "    </tr>\n",
              "  </tbody>\n",
              "</table>\n",
              "<p>1000 rows × 9 columns</p>\n",
              "</div>\n",
              "      <button class=\"colab-df-convert\" onclick=\"convertToInteractive('df-4eefda32-c1a2-4f46-b265-3472a746e477')\"\n",
              "              title=\"Convert this dataframe to an interactive table.\"\n",
              "              style=\"display:none;\">\n",
              "        \n",
              "  <svg xmlns=\"http://www.w3.org/2000/svg\" height=\"24px\"viewBox=\"0 0 24 24\"\n",
              "       width=\"24px\">\n",
              "    <path d=\"M0 0h24v24H0V0z\" fill=\"none\"/>\n",
              "    <path d=\"M18.56 5.44l.94 2.06.94-2.06 2.06-.94-2.06-.94-.94-2.06-.94 2.06-2.06.94zm-11 1L8.5 8.5l.94-2.06 2.06-.94-2.06-.94L8.5 2.5l-.94 2.06-2.06.94zm10 10l.94 2.06.94-2.06 2.06-.94-2.06-.94-.94-2.06-.94 2.06-2.06.94z\"/><path d=\"M17.41 7.96l-1.37-1.37c-.4-.4-.92-.59-1.43-.59-.52 0-1.04.2-1.43.59L10.3 9.45l-7.72 7.72c-.78.78-.78 2.05 0 2.83L4 21.41c.39.39.9.59 1.41.59.51 0 1.02-.2 1.41-.59l7.78-7.78 2.81-2.81c.8-.78.8-2.07 0-2.86zM5.41 20L4 18.59l7.72-7.72 1.47 1.35L5.41 20z\"/>\n",
              "  </svg>\n",
              "      </button>\n",
              "      \n",
              "  <style>\n",
              "    .colab-df-container {\n",
              "      display:flex;\n",
              "      flex-wrap:wrap;\n",
              "      gap: 12px;\n",
              "    }\n",
              "\n",
              "    .colab-df-convert {\n",
              "      background-color: #E8F0FE;\n",
              "      border: none;\n",
              "      border-radius: 50%;\n",
              "      cursor: pointer;\n",
              "      display: none;\n",
              "      fill: #1967D2;\n",
              "      height: 32px;\n",
              "      padding: 0 0 0 0;\n",
              "      width: 32px;\n",
              "    }\n",
              "\n",
              "    .colab-df-convert:hover {\n",
              "      background-color: #E2EBFA;\n",
              "      box-shadow: 0px 1px 2px rgba(60, 64, 67, 0.3), 0px 1px 3px 1px rgba(60, 64, 67, 0.15);\n",
              "      fill: #174EA6;\n",
              "    }\n",
              "\n",
              "    [theme=dark] .colab-df-convert {\n",
              "      background-color: #3B4455;\n",
              "      fill: #D2E3FC;\n",
              "    }\n",
              "\n",
              "    [theme=dark] .colab-df-convert:hover {\n",
              "      background-color: #434B5C;\n",
              "      box-shadow: 0px 1px 3px 1px rgba(0, 0, 0, 0.15);\n",
              "      filter: drop-shadow(0px 1px 2px rgba(0, 0, 0, 0.3));\n",
              "      fill: #FFFFFF;\n",
              "    }\n",
              "  </style>\n",
              "\n",
              "      <script>\n",
              "        const buttonEl =\n",
              "          document.querySelector('#df-4eefda32-c1a2-4f46-b265-3472a746e477 button.colab-df-convert');\n",
              "        buttonEl.style.display =\n",
              "          google.colab.kernel.accessAllowed ? 'block' : 'none';\n",
              "\n",
              "        async function convertToInteractive(key) {\n",
              "          const element = document.querySelector('#df-4eefda32-c1a2-4f46-b265-3472a746e477');\n",
              "          const dataTable =\n",
              "            await google.colab.kernel.invokeFunction('convertToInteractive',\n",
              "                                                     [key], {});\n",
              "          if (!dataTable) return;\n",
              "\n",
              "          const docLinkHtml = 'Like what you see? Visit the ' +\n",
              "            '<a target=\"_blank\" href=https://colab.research.google.com/notebooks/data_table.ipynb>data table notebook</a>'\n",
              "            + ' to learn more about interactive tables.';\n",
              "          element.innerHTML = '';\n",
              "          dataTable['output_type'] = 'display_data';\n",
              "          await google.colab.output.renderOutput(dataTable, element);\n",
              "          const docLink = document.createElement('div');\n",
              "          docLink.innerHTML = docLinkHtml;\n",
              "          element.appendChild(docLink);\n",
              "        }\n",
              "      </script>\n",
              "    </div>\n",
              "  </div>\n",
              "  "
            ]
          },
          "metadata": {},
          "execution_count": 47
        }
      ]
    },
    {
      "cell_type": "markdown",
      "metadata": {
        "id": "YV28ntWAK-GR"
      },
      "source": [
        "## Divide the data (2 marks)"
      ]
    },
    {
      "cell_type": "markdown",
      "metadata": {
        "id": "3kg8zzQAK-GR"
      },
      "source": [
        "We split the data in to two parts:\n",
        "\n",
        "1- A set for exploration and hythesis generation (my_explore_sample)\n",
        "\n",
        "2- A set on which to test the hypothesis (my_test_sample)\n",
        "\n",
        "To make sure the two sets of data are representative we can use a method like train_test_split from the sklearn.model_selection module. Otherwise, splitting based on row indices might enforce some bias as the original dataset might be ordered in a specific way."
      ]
    },
    {
      "cell_type": "code",
      "source": [
        "from sklearn.model_selection import train_test_split\n",
        "my_explore_sample, my_test_sample = train_test_split(population_data, test_size=0.5, random_state = 1 )"
      ],
      "metadata": {
        "id": "2-nMRybdPrq6"
      },
      "execution_count": 48,
      "outputs": []
    },
    {
      "cell_type": "markdown",
      "metadata": {
        "id": "zrfckgTCK-GR"
      },
      "source": [
        "## Explore the data (5 marks)"
      ]
    },
    {
      "cell_type": "markdown",
      "metadata": {
        "id": "9E7WPUIvK-GS"
      },
      "source": [
        "### Measure descriptive statistics:\n",
        " "
      ]
    },
    {
      "cell_type": "code",
      "source": [
        "description = my_explore_sample.describe().drop(['25%', '75%', 'min', 'max', 'count'])\n",
        "description.rename(index={'50%': 'Median'})\n"
      ],
      "metadata": {
        "colab": {
          "base_uri": "https://localhost:8080/",
          "height": 143
        },
        "id": "A_doqCotYMxX",
        "outputId": "a88288b0-f434-4d7e-dbf6-eb13f7272680"
      },
      "execution_count": 49,
      "outputs": [
        {
          "output_type": "execute_result",
          "data": {
            "text/plain": [
              "        North East  North West  Yorkshire and The Humber  East Midlands  \\\n",
              "mean     39.792000   39.128000                 39.136000       37.98400   \n",
              "std      23.818383   23.160406                 23.803755       23.82484   \n",
              "Median   40.000000   40.000000                 39.000000       37.00000   \n",
              "\n",
              "        West Midlands  East of England     London  South East  South West  \n",
              "mean        39.796000         41.30600  34.834000   39.908000   43.342000  \n",
              "std         23.302111         23.64874  22.444285   23.041644   24.431267  \n",
              "Median      40.000000         41.00000  32.000000   40.000000   44.000000  "
            ],
            "text/html": [
              "\n",
              "  <div id=\"df-70e8d114-036c-431d-a484-eed889f96ff3\">\n",
              "    <div class=\"colab-df-container\">\n",
              "      <div>\n",
              "<style scoped>\n",
              "    .dataframe tbody tr th:only-of-type {\n",
              "        vertical-align: middle;\n",
              "    }\n",
              "\n",
              "    .dataframe tbody tr th {\n",
              "        vertical-align: top;\n",
              "    }\n",
              "\n",
              "    .dataframe thead th {\n",
              "        text-align: right;\n",
              "    }\n",
              "</style>\n",
              "<table border=\"1\" class=\"dataframe\">\n",
              "  <thead>\n",
              "    <tr style=\"text-align: right;\">\n",
              "      <th></th>\n",
              "      <th>North East</th>\n",
              "      <th>North West</th>\n",
              "      <th>Yorkshire and The Humber</th>\n",
              "      <th>East Midlands</th>\n",
              "      <th>West Midlands</th>\n",
              "      <th>East of England</th>\n",
              "      <th>London</th>\n",
              "      <th>South East</th>\n",
              "      <th>South West</th>\n",
              "    </tr>\n",
              "  </thead>\n",
              "  <tbody>\n",
              "    <tr>\n",
              "      <th>mean</th>\n",
              "      <td>39.792000</td>\n",
              "      <td>39.128000</td>\n",
              "      <td>39.136000</td>\n",
              "      <td>37.98400</td>\n",
              "      <td>39.796000</td>\n",
              "      <td>41.30600</td>\n",
              "      <td>34.834000</td>\n",
              "      <td>39.908000</td>\n",
              "      <td>43.342000</td>\n",
              "    </tr>\n",
              "    <tr>\n",
              "      <th>std</th>\n",
              "      <td>23.818383</td>\n",
              "      <td>23.160406</td>\n",
              "      <td>23.803755</td>\n",
              "      <td>23.82484</td>\n",
              "      <td>23.302111</td>\n",
              "      <td>23.64874</td>\n",
              "      <td>22.444285</td>\n",
              "      <td>23.041644</td>\n",
              "      <td>24.431267</td>\n",
              "    </tr>\n",
              "    <tr>\n",
              "      <th>Median</th>\n",
              "      <td>40.000000</td>\n",
              "      <td>40.000000</td>\n",
              "      <td>39.000000</td>\n",
              "      <td>37.00000</td>\n",
              "      <td>40.000000</td>\n",
              "      <td>41.00000</td>\n",
              "      <td>32.000000</td>\n",
              "      <td>40.000000</td>\n",
              "      <td>44.000000</td>\n",
              "    </tr>\n",
              "  </tbody>\n",
              "</table>\n",
              "</div>\n",
              "      <button class=\"colab-df-convert\" onclick=\"convertToInteractive('df-70e8d114-036c-431d-a484-eed889f96ff3')\"\n",
              "              title=\"Convert this dataframe to an interactive table.\"\n",
              "              style=\"display:none;\">\n",
              "        \n",
              "  <svg xmlns=\"http://www.w3.org/2000/svg\" height=\"24px\"viewBox=\"0 0 24 24\"\n",
              "       width=\"24px\">\n",
              "    <path d=\"M0 0h24v24H0V0z\" fill=\"none\"/>\n",
              "    <path d=\"M18.56 5.44l.94 2.06.94-2.06 2.06-.94-2.06-.94-.94-2.06-.94 2.06-2.06.94zm-11 1L8.5 8.5l.94-2.06 2.06-.94-2.06-.94L8.5 2.5l-.94 2.06-2.06.94zm10 10l.94 2.06.94-2.06 2.06-.94-2.06-.94-.94-2.06-.94 2.06-2.06.94z\"/><path d=\"M17.41 7.96l-1.37-1.37c-.4-.4-.92-.59-1.43-.59-.52 0-1.04.2-1.43.59L10.3 9.45l-7.72 7.72c-.78.78-.78 2.05 0 2.83L4 21.41c.39.39.9.59 1.41.59.51 0 1.02-.2 1.41-.59l7.78-7.78 2.81-2.81c.8-.78.8-2.07 0-2.86zM5.41 20L4 18.59l7.72-7.72 1.47 1.35L5.41 20z\"/>\n",
              "  </svg>\n",
              "      </button>\n",
              "      \n",
              "  <style>\n",
              "    .colab-df-container {\n",
              "      display:flex;\n",
              "      flex-wrap:wrap;\n",
              "      gap: 12px;\n",
              "    }\n",
              "\n",
              "    .colab-df-convert {\n",
              "      background-color: #E8F0FE;\n",
              "      border: none;\n",
              "      border-radius: 50%;\n",
              "      cursor: pointer;\n",
              "      display: none;\n",
              "      fill: #1967D2;\n",
              "      height: 32px;\n",
              "      padding: 0 0 0 0;\n",
              "      width: 32px;\n",
              "    }\n",
              "\n",
              "    .colab-df-convert:hover {\n",
              "      background-color: #E2EBFA;\n",
              "      box-shadow: 0px 1px 2px rgba(60, 64, 67, 0.3), 0px 1px 3px 1px rgba(60, 64, 67, 0.15);\n",
              "      fill: #174EA6;\n",
              "    }\n",
              "\n",
              "    [theme=dark] .colab-df-convert {\n",
              "      background-color: #3B4455;\n",
              "      fill: #D2E3FC;\n",
              "    }\n",
              "\n",
              "    [theme=dark] .colab-df-convert:hover {\n",
              "      background-color: #434B5C;\n",
              "      box-shadow: 0px 1px 3px 1px rgba(0, 0, 0, 0.15);\n",
              "      filter: drop-shadow(0px 1px 2px rgba(0, 0, 0, 0.3));\n",
              "      fill: #FFFFFF;\n",
              "    }\n",
              "  </style>\n",
              "\n",
              "      <script>\n",
              "        const buttonEl =\n",
              "          document.querySelector('#df-70e8d114-036c-431d-a484-eed889f96ff3 button.colab-df-convert');\n",
              "        buttonEl.style.display =\n",
              "          google.colab.kernel.accessAllowed ? 'block' : 'none';\n",
              "\n",
              "        async function convertToInteractive(key) {\n",
              "          const element = document.querySelector('#df-70e8d114-036c-431d-a484-eed889f96ff3');\n",
              "          const dataTable =\n",
              "            await google.colab.kernel.invokeFunction('convertToInteractive',\n",
              "                                                     [key], {});\n",
              "          if (!dataTable) return;\n",
              "\n",
              "          const docLinkHtml = 'Like what you see? Visit the ' +\n",
              "            '<a target=\"_blank\" href=https://colab.research.google.com/notebooks/data_table.ipynb>data table notebook</a>'\n",
              "            + ' to learn more about interactive tables.';\n",
              "          element.innerHTML = '';\n",
              "          dataTable['output_type'] = 'display_data';\n",
              "          await google.colab.output.renderOutput(dataTable, element);\n",
              "          const docLink = document.createElement('div');\n",
              "          docLink.innerHTML = docLinkHtml;\n",
              "          element.appendChild(docLink);\n",
              "        }\n",
              "      </script>\n",
              "    </div>\n",
              "  </div>\n",
              "  "
            ]
          },
          "metadata": {},
          "execution_count": 49
        }
      ]
    },
    {
      "cell_type": "markdown",
      "source": [
        "The statistical summary of our sample_explore tells us that:\n",
        "\n",
        "\n",
        "*  London has the smallest standard deviation.\n",
        "*  South West has the largest standard deviation.\n",
        "*  London has the smallest mean.\n",
        "*  South West has the largest mean.\n",
        "*  London again has the smallest median.\n",
        "*  South West again has the largest median.\n"
      ],
      "metadata": {
        "id": "KPY3ku46cUDF"
      }
    },
    {
      "cell_type": "markdown",
      "metadata": {
        "id": "Pe15chRdUL8I"
      },
      "source": [
        "### Plot a histogram:"
      ]
    },
    {
      "cell_type": "code",
      "source": [
        "import matplotlib.pyplot as plt\n",
        "plt.figure(figsize=(15,7))\n",
        "plt.title(\"Age breakdown by location\")\n",
        "plt.hist(my_explore_sample)\n",
        "# plt.xticks([])\n",
        "plt.xlabel(\"Age group\")\n",
        "plt.ylabel(\"Count\")\n",
        "plt.legend(my_explore_sample.columns)\n",
        "\n",
        "plt.show()"
      ],
      "metadata": {
        "colab": {
          "base_uri": "https://localhost:8080/",
          "height": 641
        },
        "id": "7hMDKVT0aiZ4",
        "outputId": "e67a5a6e-3d80-4768-c7b3-bbba180599a6"
      },
      "execution_count": 50,
      "outputs": [
        {
          "output_type": "display_data",
          "data": {
            "text/plain": [
              "<Figure size 1500x700 with 1 Axes>"
            ],
            "image/png": "[encoded data removed]"
          },
          "metadata": {}
        }
      ]
    },
    {
      "cell_type": "markdown",
      "metadata": {
        "id": "DT1-bPataUQD"
      },
      "source": [
        "We can see from the above histogram that the older the age group is, the greater the number of people from the South West compared to other locations."
      ]
    },
    {
      "cell_type": "markdown",
      "source": [
        "### Plot a Box-Plot:"
      ],
      "metadata": {
        "id": "KIyw3_7xvq9R"
      }
    },
    {
      "cell_type": "code",
      "source": [
        "plt.figure(figsize=(17,7))\n",
        "plt.title(\"Age breakdown by location\")\n",
        "plt.boxplot(my_explore_sample)\n",
        "number_of_columns = len(my_explore_sample.columns)\n",
        "plt.xticks(range(1, number_of_columns + 1), my_explore_sample.columns)\n",
        "plt.ylabel(\"Age\")\n",
        "plt.show()"
      ],
      "metadata": {
        "colab": {
          "base_uri": "https://localhost:8080/",
          "height": 622
        },
        "id": "X2ipwnkVv5Fr",
        "outputId": "bdc19ec6-7018-461d-a3a0-3c8849cf4a6e"
      },
      "execution_count": 51,
      "outputs": [
        {
          "output_type": "display_data",
          "data": {
            "text/plain": [
              "<Figure size 1700x700 with 1 Axes>"
            ],
            "image/png": "[encoded data removed]"
          },
          "metadata": {}
        }
      ]
    },
    {
      "cell_type": "markdown",
      "source": [
        "The above boxplot shows that South West has the largest median (the line in the middle of the box). That means the age of half of the people in South West is greater than the median, which in turn is the greatest compared to other locations. This confirms the previous observation which indicated that South West has the largest proportion of old people. The distance between the upper and the lower ends of the box informs us about the standard deviation. So from the above boxplot, we can tell that South west has the largest standard deviation."
      ],
      "metadata": {
        "id": "QSIMCzFx8eJZ"
      }
    },
    {
      "cell_type": "markdown",
      "source": [
        "### Plot a histogram (South West):"
      ],
      "metadata": {
        "id": "wzIOoPdQ9Rwb"
      }
    },
    {
      "cell_type": "code",
      "source": [
        "# plt.style.use(\"seaborn\")\n",
        "\n",
        "count = range(500)\n",
        "ages = my_explore_sample[\"South West\"]\n",
        "plt.figure(figsize=(10,6))\n",
        "\n",
        "plt.scatter(ages, count, edgecolors=\"black\", linewidths=1, alpha=0.75)\n",
        "\n",
        "# plt.xscale(\"log\")\n",
        "# plt.yscale(\"log\")\n",
        "\n",
        "plt.title(\"Age breakdown for South West\")\n",
        "plt.ylabel(\"Count\")\n",
        "plt.xlabel(\"Age\")\n",
        "\n",
        "\n",
        "\n",
        "\n",
        "\n",
        "plt.show()"
      ],
      "metadata": {
        "colab": {
          "base_uri": "https://localhost:8080/",
          "height": 564
        },
        "id": "dIJeWfMO9jQ4",
        "outputId": "fcd41726-27ee-4ebb-bdca-d34b135f0103"
      },
      "execution_count": 52,
      "outputs": [
        {
          "output_type": "display_data",
          "data": {
            "text/plain": [
              "<Figure size 1000x600 with 1 Axes>"
            ],
            "image/png": "[encoded data removed]"
          },
          "metadata": {}
        }
      ]
    },
    {
      "cell_type": "markdown",
      "source": [
        "The previous boxplot tells us that half of the people in the South West are 43 year and older. Therfore the distribution is heavily skewed towards older people. Therefore it makes more sence to use a logarithmic scale for the above scatter.\n",
        "\n",
        "The above scatter shows us that a higer proportion of people in the South West are old."
      ],
      "metadata": {
        "id": "Ejudl5WL93Rh"
      }
    },
    {
      "cell_type": "code",
      "source": [
        "# plt.figure(figsize=(15,7))\n",
        "# plt.title(\"Age breakdown by location\")\n",
        "# plt.hist(my_explore_sample[\"London\"])\n",
        "# plt.xlabel(\"Age group\")\n",
        "# plt.ylabel(\"Count\")\n",
        "# plt.show()\n",
        "\n",
        "\n",
        "my_explore_sample.hist(column=\"South West\", bins=7)"
      ],
      "metadata": {
        "colab": {
          "base_uri": "https://localhost:8080/",
          "height": 469
        },
        "id": "eM0_CYaYVHOW",
        "outputId": "13efd209-b349-4f58-9da4-fe23e903a166"
      },
      "execution_count": 53,
      "outputs": [
        {
          "output_type": "execute_result",
          "data": {
            "text/plain": [
              "array([[<Axes: title={'center': 'South West'}>]], dtype=object)"
            ]
          },
          "metadata": {},
          "execution_count": 53
        },
        {
          "output_type": "display_data",
          "data": {
            "text/plain": [
              "<Figure size 640x480 with 1 Axes>"
            ],
            "image/png": "[encoded data removed]"
          },
          "metadata": {}
        }
      ]
    },
    {
      "cell_type": "markdown",
      "source": [
        "By looking at the bars, we can see that while many bars have similar heights, some bars are shorter than others. Therefore, the mean is moderately less than the average value of all these values (the ages). A realistic estimate of the mean would be a value between 40 and 50. We note that the above histogram is useful but it only provides some insights into the possible range of values for the mean. However, it does not the actual value of the mean. Another problem with histograms is that they can be affected by outliers"
      ],
      "metadata": {
        "id": "KoT7mpJds27j"
      }
    },
    {
      "cell_type": "markdown",
      "metadata": {
        "id": "vFygebdiK-GS"
      },
      "source": [
        "## State your hypothesis, and state the evidence that justifies it. (2 marks)"
      ]
    },
    {
      "cell_type": "markdown",
      "source": [
        "Based on the observations from the data exploration stage above, we can make the following observations:\n",
        "\n",
        "\n",
        "1.   The South West has the highest median (from the boxplot).\n",
        "2.   The South West has the highest mean (from the histogram).\n",
        "3.   The South West has the standard deviation (from the boxplot).\n",
        "4.   London exhibits contradictory behavior where it has the lowest median (from the boxplot), mean (from the histogram) and standard deviation (from the boxplot). \n",
        "\n",
        "Note that the above notes are approximate. The following hypothesis is based on these observations. Therefore, the hypothesis can be true or false and it can be falsified.\n",
        "\n",
        "After considering the observations above, a reasonable hypothesis would be that **the South West has the highest mean value, while London has the lowest mean value.**\n",
        "\n"
      ],
      "metadata": {
        "id": "u42teLWd0kly"
      }
    },
    {
      "cell_type": "markdown",
      "metadata": {
        "id": "rFTJxBG0K-GS"
      },
      "source": [
        "## Plan the test. (3 marks)"
      ]
    },
    {
      "cell_type": "markdown",
      "source": [
        "**Null hypothesis**: There is no difference between the mean of the South West region and the mean of London. (This is assumed to be true and we try to test against it.)\n",
        "\n",
        "**Alternative Hypothesis**: The mean of the South West is greater than that of London.\n",
        "\n",
        "Since the previous observations informed the alternative hypothesis that the mean of South West can be greater than the mean of London, we have to conduct an upper-tailed test.\n",
        "\n",
        "**α-level**: A common choice for the α-level 5% or 0.05. Hence the confidence level (the probability level at which we role the null hypothesis out) is (1-α) = 1-0.05 = 0.95 or 95%.\n",
        "\n"
      ],
      "metadata": {
        "id": "lMlBkODZcjZi"
      }
    },
    {
      "cell_type": "markdown",
      "metadata": {
        "id": "Wm-6jZDxK-GS"
      },
      "source": [
        "## Perform the statistical test of the hypothesis. (5 marks)"
      ]
    },
    {
      "cell_type": "markdown",
      "source": [
        "Since the dataset size is large (more than 100), and we know the standard deviation, it is best to use a classical statistical testing methods known as the Z-test."
      ],
      "metadata": {
        "id": "352sqkZgsH6n"
      }
    },
    {
      "cell_type": "markdown",
      "source": [
        "The null hypothesis: mean of South West = mean of London = 34.834000\n",
        "\n",
        "The alternative hypothesis: mean of South West > mean of London. i.e  mean of South West > 34.834000\n",
        "\n",
        "\n",
        "We also need to find the following data:\n",
        "* The critical z-value for a 95% confidence level in an upper-tailed z-test.\n",
        "* The mean of South West\n",
        "* The std of South West\n",
        "* The mean of London\n",
        "* The size of the dataset\n",
        "\n",
        "We can use the following formula:\n",
        "\n",
        "z = (empirical mean - mean we are comapring to) / (empirical std / √num of points in dataset)\n",
        "\n",
        "\n",
        "If we get a z-value that is greater than the critical z-value then we can reject the null hypothesis.\n",
        "\n",
        "\n"
      ],
      "metadata": {
        "id": "qMKpE1r3udAF"
      }
    },
    {
      "cell_type": "code",
      "source": [
        "from scipy import stats\n",
        "\n",
        "\n",
        "# get the values needed in the equation\n",
        "alpha_level = 0.05\n",
        "critical_value = 1 - alpha_level\n",
        "southwest_std = my_test_sample[\"South West\"].std()\n",
        "london_mean = my_test_sample[\"London\"].mean()\n",
        "southwest_mean = my_test_sample[\"South West\"].mean()\n",
        "critical_z_value = stats.norm.ppf(1 - alpha_level)\n",
        "\n",
        "# the equation\n",
        "z_value = (southwest_mean - london_mean) / (southwest_std / np.sqrt(len(my_test_sample)))\n",
        "\n",
        "print(\"The critical value for this test is: \" + str(critical_value))\n",
        "print(\"The found z-value is: \" + str(z_value))\n",
        "\n",
        "if(z_value > critical_value):\n",
        "  print(\"Since the found z-value is greater than the critical z-value, we can reject the null hypothesis.\")\n",
        "  print(\"Hence, the mean of the South West is greater than the mean of London.\")\n",
        "else:\n",
        "  print(\"Since the found z-value is NOT greater than the critical z-value, there is no enough evidence  to reject the null hypothesis.\")\n",
        "  print(\"Hence, there is no difference between the mean of the South West region and the mean of London. \")\n",
        "  \n",
        "\n",
        "\n",
        "\n"
      ],
      "metadata": {
        "colab": {
          "base_uri": "https://localhost:8080/",
          "height": 0
        },
        "id": "y1SmHeBpzNp2",
        "outputId": "749121d6-6a69-4bde-dc9a-c25535fc0444"
      },
      "execution_count": 57,
      "outputs": [
        {
          "output_type": "stream",
          "name": "stdout",
          "text": [
            "The critical value for this test is: 0.95\n",
            "The found z-value is: 5.798707077093195\n",
            "Since the found z-value is greater than the critical z-value, we can reject the null hypothesis.\n",
            "Hence, the mean of the South West is greater than the mean of London.\n"
          ]
        }
      ]
    },
    {
      "cell_type": "markdown",
      "metadata": {
        "id": "thHY_L0yK-GS"
      },
      "source": [
        "## Conclusions. (2 Marks) "
      ]
    },
    {
      "cell_type": "markdown",
      "source": [
        "Using the method of Z-test for an upper-tailed test with a confidence level of 95%, we find that the null hypothesis can be ruled out."
      ],
      "metadata": {
        "id": "PEZTcbql3SFB"
      }
    },
    {
      "cell_type": "markdown",
      "metadata": {
        "id": "umHbgoNgK-GT"
      },
      "source": [
        "## What to submit."
      ]
    },
    {
      "cell_type": "markdown",
      "metadata": {
        "id": "mFxutjPGK-GT"
      },
      "source": [
        "You will submit a Jupyter Notebook/Lab to GitLab. The notebook needs to have the same headings as this document, but only up to the conclusions section. I.e. every section with a mark associated with it. Fill in each section with the appropriate text, code, measurements and graphics to perform the required tasks. You can start with this document, and fill it in. "
      ]
    },
    {
      "cell_type": "markdown",
      "metadata": {
        "id": "1SS0dEeMK-GT"
      },
      "source": [
        " ***"
      ]
    },
    {
      "cell_type": "markdown",
      "metadata": {
        "id": "U0jP3R_5K-GT"
      },
      "source": [
        "## Useful tools and commands."
      ]
    },
    {
      "cell_type": "markdown",
      "metadata": {
        "id": "Reiwzlv5K-GT"
      },
      "source": [
        "### Z-test and t-test\n",
        "For a z-test, you will need properties from the normal distribution. For a t-test, you will need properties of the Student-t distribution. There are many to get these in python. One way is to use `scipy.stats`. You can `from scipy import stats` which gives you all of stats, or just import the normal distribution, which is called norm - `from scipy.stats import norm`, or import the t-distribution, `from scipy.stats import t`. "
      ]
    },
    {
      "cell_type": "code",
      "execution_count": 55,
      "metadata": {
        "id": "Rte8u55MK-GT"
      },
      "outputs": [],
      "source": [
        "from scipy import stats"
      ]
    },
    {
      "cell_type": "markdown",
      "metadata": {
        "id": "8fi9gsI_K-GU"
      },
      "source": [
        "For all distributions in `scipy.stats`, the method `.pdf` gives the probability distribution, `.cdf` gives the cumulative distribution, `.ppf` gives an inverse of the cdf (very useful), and `.interval` gives a confidence interval. See https://docs.scipy.org/doc/scipy/reference/generated/scipy.stats.norm.html#scipy.stats.norm."
      ]
    },
    {
      "cell_type": "code",
      "execution_count": 56,
      "metadata": {
        "colab": {
          "base_uri": "https://localhost:8080/",
          "height": 235
        },
        "id": "mvcBtwFEK-GU",
        "outputId": "3d9cdd5b-8bc6-4457-b4fb-794aaa95412c"
      },
      "outputs": [
        {
          "output_type": "error",
          "ename": "NameError",
          "evalue": "ignored",
          "traceback": [
            "\u001b[0;31m---------------------------------------------------------------------------\u001b[0m",
            "\u001b[0;31mNameError\u001b[0m                                 Traceback (most recent call last)",
            "\u001b[0;32m<ipython-input-56-c8eb634f0ce6>\u001b[0m in \u001b[0;36m<cell line: 4>\u001b[0;34m()\u001b[0m\n\u001b[1;32m      2\u001b[0m \u001b[0;32mimport\u001b[0m \u001b[0mmatplotlib\u001b[0m\u001b[0;34m.\u001b[0m\u001b[0mpyplot\u001b[0m \u001b[0;32mas\u001b[0m \u001b[0mplt\u001b[0m\u001b[0;34m\u001b[0m\u001b[0;34m\u001b[0m\u001b[0m\n\u001b[1;32m      3\u001b[0m \u001b[0mx\u001b[0m\u001b[0;34m=\u001b[0m\u001b[0mnp\u001b[0m\u001b[0;34m.\u001b[0m\u001b[0marange\u001b[0m\u001b[0;34m(\u001b[0m\u001b[0;36m0\u001b[0m\u001b[0;34m,\u001b[0m\u001b[0;36m10\u001b[0m\u001b[0;34m,\u001b[0m\u001b[0;36m0.05\u001b[0m\u001b[0;34m)\u001b[0m\u001b[0;34m\u001b[0m\u001b[0;34m\u001b[0m\u001b[0m\n\u001b[0;32m----> 4\u001b[0;31m \u001b[0my\u001b[0m\u001b[0;34m=\u001b[0m\u001b[0mnorm\u001b[0m\u001b[0;34m.\u001b[0m\u001b[0mpdf\u001b[0m\u001b[0;34m(\u001b[0m\u001b[0mx\u001b[0m\u001b[0;34m,\u001b[0m\u001b[0;36m5\u001b[0m\u001b[0;34m,\u001b[0m\u001b[0;36m1\u001b[0m\u001b[0;34m)\u001b[0m \u001b[0;31m# PDF of a normal distribution with mean 5 and variance 1\u001b[0m\u001b[0;34m\u001b[0m\u001b[0;34m\u001b[0m\u001b[0m\n\u001b[0m\u001b[1;32m      5\u001b[0m \u001b[0mz\u001b[0m\u001b[0;34m=\u001b[0m\u001b[0mnorm\u001b[0m\u001b[0;34m.\u001b[0m\u001b[0mcdf\u001b[0m\u001b[0;34m(\u001b[0m\u001b[0mx\u001b[0m\u001b[0;34m,\u001b[0m\u001b[0;36m5\u001b[0m\u001b[0;34m,\u001b[0m\u001b[0;36m1\u001b[0m\u001b[0;34m)\u001b[0m \u001b[0;31m# CDF of a normal distribution with mean 5 and variance 1\u001b[0m\u001b[0;34m\u001b[0m\u001b[0;34m\u001b[0m\u001b[0m\n\u001b[1;32m      6\u001b[0m \u001b[0mplt\u001b[0m\u001b[0;34m.\u001b[0m\u001b[0mplot\u001b[0m\u001b[0;34m(\u001b[0m\u001b[0mx\u001b[0m\u001b[0;34m,\u001b[0m\u001b[0my\u001b[0m\u001b[0;34m,\u001b[0m\u001b[0mlabel\u001b[0m\u001b[0;34m=\u001b[0m\u001b[0;34m'Normal PDF'\u001b[0m\u001b[0;34m)\u001b[0m\u001b[0;34m\u001b[0m\u001b[0;34m\u001b[0m\u001b[0m\n",
            "\u001b[0;31mNameError\u001b[0m: name 'norm' is not defined"
          ]
        }
      ],
      "source": [
        "import numpy as np\n",
        "import matplotlib.pyplot as plt\n",
        "x=np.arange(0,10,0.05)\n",
        "y=norm.pdf(x,5,1) # PDF of a normal distribution with mean 5 and variance 1\n",
        "z=norm.cdf(x,5,1) # CDF of a normal distribution with mean 5 and variance 1\n",
        "plt.plot(x,y,label='Normal PDF')\n",
        "plt.plot(x,z,label='Normal CDF')\n",
        "plt.legend()\n",
        "plt.title('Normal distribution with mean 5 and var 1')\n",
        "plt.show()"
      ]
    },
    {
      "cell_type": "markdown",
      "metadata": {
        "id": "Z8ZNtE-VK-GV"
      },
      "source": [
        "### Two-tailed test"
      ]
    },
    {
      "cell_type": "markdown",
      "metadata": {
        "id": "kLAytlZ0K-GV"
      },
      "source": [
        "The confidence interval is a function of $\\alpha$ and is the smallest interval which contains $1-\\alpha$ of the probability. For a two-tailed test, if the test statistic is outside the confidence interval, the null hypothesis is rejected; if it is inside the confidence interval, the null hypothesis is not rejected. All distributions in `scipy.stats` have a method `interval` which computes confidence interval."
      ]
    },
    {
      "cell_type": "code",
      "execution_count": null,
      "metadata": {
        "id": "immSwbssK-GV"
      },
      "outputs": [],
      "source": [
        "alpha = 0.05\n",
        "x=np.arange(0,10,0.05)\n",
        "y=stats.norm.pdf(x,5,1) # a normal distribution with mean 5 and variance 1\n",
        "plt.plot(x,y,label='Normal pdf')\n",
        "ci=stats.norm.interval(1-alpha,5,1)\n",
        "print(\"The 95%% confidence interval lies between %3.2f and %3.2f.\" %(ci[0],ci[1]))\n",
        "plt.plot([ci[0],ci[1]],[0.1,0.1],linewidth=2.0,label=\"95% Confidence interval\")\n",
        "plt.legend(loc=2)\n",
        "plt.title(\"The 95%% confidence interval lies between %3.2f and %3.2f.\" %(ci[0],ci[1]))\n",
        "plt.show()"
      ]
    },
    {
      "cell_type": "markdown",
      "metadata": {
        "id": "y6sx0LYXK-GV"
      },
      "source": [
        "### One tail test\n",
        "Here is where `ppf` (the inverse of the cumulative distribution) is very useful. The lower tail critical value is where the cumulative distribution is equal to $\\alpha$. The upper tail critical value is where the cumulative distribution is equal to $1-\\alpha$. For a symmetric distribution (such as the normal or t distributions) the two critical values will be the same, but in general they will be different."
      ]
    },
    {
      "cell_type": "markdown",
      "metadata": {
        "id": "kyX55B3FK-GV"
      },
      "source": [
        "#### Lower tail and upper tail of a normal distribution with mean 5 and variance 1"
      ]
    },
    {
      "cell_type": "code",
      "execution_count": null,
      "metadata": {
        "id": "sp3jPBtGK-GV"
      },
      "outputs": [],
      "source": [
        "alpha = 0.05\n",
        "lower = stats.norm.ppf(alpha,5,1)\n",
        "upper = stats.norm.ppf(1-alpha,5,1)\n",
        "plt.plot(x,y)\n",
        "plt.plot([lower,lower],[0,0.2],label=\"Lower tail\")\n",
        "plt.plot([upper,upper],[0,0.2],label=\"Upper tail\")\n",
        "plt.legend()\n",
        "plt.title(\"Lower and upper critical values\")\n",
        "plt.show()"
      ]
    },
    {
      "cell_type": "code",
      "execution_count": null,
      "metadata": {
        "id": "WFuRJ-avK-GV"
      },
      "outputs": [],
      "source": []
    },
    {
      "cell_type": "markdown",
      "metadata": {
        "id": "DULEuUDMK-GV"
      },
      "source": [
        "The t-distribution works in a similar way, except the so-called \"shape parameter\" is the number of degrees of freedom, rather than the variance, and the location parameter (the mean) comes after the degrees of freedom."
      ]
    },
    {
      "cell_type": "code",
      "execution_count": null,
      "metadata": {
        "id": "ip7il5ofK-GW"
      },
      "outputs": [],
      "source": [
        "y10=stats.t.pdf(x,10,5)\n",
        "y30=stats.t.pdf(x,30,5)\n",
        "y100=stats.t.pdf(x,100,5)\n",
        "plt.plot(x,y10,label=\"10 degrees of freedom\")\n",
        "plt.plot(x,y30,label=\"30 degrees of freedom\")\n",
        "plt.plot(x,y100,label=\"100 degrees of freedom\")\n",
        "plt.plot(x,y,label='Normal pdf')\n",
        "plt.legend(loc=2)\n",
        "plt.title(\"Various t-distributions; mean 5\")\n",
        "plt.show()"
      ]
    },
    {
      "cell_type": "markdown",
      "metadata": {
        "id": "fXJLnfq9K-GW"
      },
      "source": [
        "Notice how similar the t-distribution is to the normal distribution, even with the number of degrees of freedom as low as 10."
      ]
    },
    {
      "cell_type": "markdown",
      "metadata": {
        "id": "KZDqBd-2K-GW"
      },
      "source": [
        "## Monte Carlo/Bootstrap sampling\n",
        "If you want to do the statistics by generating samples from the data, you can use the method, `numpy.random.choice`. The first argument is the orginal data; the second argument is the size of the sample. The third argument is a boolean, determining with the sampling is with replacement or without replacement. By default, it does sampling with replacement, which is what you will need. "
      ]
    },
    {
      "cell_type": "code",
      "execution_count": null,
      "metadata": {
        "id": "b7TdYktOK-GW"
      },
      "outputs": [],
      "source": [
        "a=[1,2,3,4,5]\n",
        "b=np.random.choice(a,4)\n",
        "c=np.random.choice(a,4,replace=False) # sample without replacement. replace=True by default.\n",
        "print(b)\n",
        "print(c)"
      ]
    },
    {
      "cell_type": "markdown",
      "metadata": {
        "id": "Upp_-ofMK-GW"
      },
      "source": [
        "# The end!"
      ]
    }
  ],
  "metadata": {
    "kernelspec": {
      "display_name": "Python 3",
      "language": "python",
      "name": "python3"
    },
    "language_info": {
      "codemirror_mode": {
        "name": "ipython",
        "version": 3
      },
      "file_extension": ".py",
      "mimetype": "text/x-python",
      "name": "python",
      "nbconvert_exporter": "python",
      "pygments_lexer": "ipython3",
      "version": "3.8.3"
    },
    "latex_envs": {
      "LaTeX_envs_menu_present": true,
      "autoclose": false,
      "autocomplete": true,
      "bibliofile": "biblio.bib",
      "cite_by": "apalike",
      "current_citInitial": 1,
      "eqLabelWithNumbers": true,
      "eqNumInitial": 1,
      "hotkeys": {
        "equation": "Ctrl-E",
        "itemize": "Ctrl-I"
      },
      "labels_anchors": false,
      "latex_user_defs": false,
      "report_style_numbering": false,
      "user_envs_cfg": false
    },
    "colab": {
      "provenance": [],
      "include_colab_link": true
    }
  },
  "nbformat": 4,
  "nbformat_minor": 0
}